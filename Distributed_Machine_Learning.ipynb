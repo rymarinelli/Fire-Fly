{
  "nbformat": 4,
  "nbformat_minor": 0,
  "metadata": {
    "colab": {
      "name": "Distributed_Machine_Learning",
      "provenance": [],
      "collapsed_sections": [],
      "authorship_tag": "ABX9TyMLJpgYL4vu01pXT7udDHBS",
      "include_colab_link": true
    },
    "kernelspec": {
      "name": "python3",
      "display_name": "Python 3"
    }
  },
  "cells": [
    {
      "cell_type": "markdown",
      "metadata": {
        "id": "view-in-github",
        "colab_type": "text"
      },
      "source": [
        "<a href=\"https://colab.research.google.com/github/rymarinelli/Fire-Fly/blob/main/Distributed_Machine_Learning.ipynb\" target=\"_parent\"><img src=\"https://colab.research.google.com/assets/colab-badge.svg\" alt=\"Open In Colab\"/></a>"
      ]
    },
    {
      "cell_type": "code",
      "metadata": {
        "id": "eUJnHk_2irSM",
        "colab": {
          "base_uri": "https://localhost:8080/"
        },
        "outputId": "57c53f1a-a128-4c8c-eea0-a531712fe671"
      },
      "source": [
        "!pip install pyspark \n",
        "import pyspark\n",
        "from pyspark import SparkConf, SparkContext\n",
        "from pyspark.sql import SQLContext\n",
        "import pyspark.sql.functions as F "
      ],
      "execution_count": null,
      "outputs": [
        {
          "output_type": "stream",
          "text": [
            "Collecting pyspark\n",
            "\u001b[?25l  Downloading https://files.pythonhosted.org/packages/f0/26/198fc8c0b98580f617cb03cb298c6056587b8f0447e20fa40c5b634ced77/pyspark-3.0.1.tar.gz (204.2MB)\n",
            "\u001b[K     |████████████████████████████████| 204.2MB 55kB/s \n",
            "\u001b[?25hCollecting py4j==0.10.9\n",
            "\u001b[?25l  Downloading https://files.pythonhosted.org/packages/9e/b6/6a4fb90cd235dc8e265a6a2067f2a2c99f0d91787f06aca4bcf7c23f3f80/py4j-0.10.9-py2.py3-none-any.whl (198kB)\n",
            "\u001b[K     |████████████████████████████████| 204kB 42.3MB/s \n",
            "\u001b[?25hBuilding wheels for collected packages: pyspark\n",
            "  Building wheel for pyspark (setup.py) ... \u001b[?25l\u001b[?25hdone\n",
            "  Created wheel for pyspark: filename=pyspark-3.0.1-py2.py3-none-any.whl size=204612242 sha256=51df02c04883ec393322640812cce42030a93d1204948e16f3e13fa02547dc75\n",
            "  Stored in directory: /root/.cache/pip/wheels/5e/bd/07/031766ca628adec8435bb40f0bd83bb676ce65ff4007f8e73f\n",
            "Successfully built pyspark\n",
            "Installing collected packages: py4j, pyspark\n",
            "Successfully installed py4j-0.10.9 pyspark-3.0.1\n"
          ],
          "name": "stdout"
        }
      ]
    },
    {
      "cell_type": "code",
      "metadata": {
        "id": "lBcJ0hRWnSrX"
      },
      "source": [
        "conf = SparkConf().setMaster(\"local\").setAppName(\"Distributed_Machine_Learning\")\n",
        "conf.set(\"spark.scheduler.mode\", \"FAIR\")\n",
        "conf.set('spark.task.cpus', '1')\n",
        "sc = SparkContext(conf = conf)\n",
        "sqlContext = SQLContext(sc)"
      ],
      "execution_count": null,
      "outputs": []
    },
    {
      "cell_type": "code",
      "metadata": {
        "id": "077opkj0oFy2"
      },
      "source": [
        "import keras \n",
        "import tensorflow as tf"
      ],
      "execution_count": null,
      "outputs": []
    },
    {
      "cell_type": "code",
      "metadata": {
        "colab": {
          "base_uri": "https://localhost:8080/"
        },
        "id": "J7jmQR6soNoR",
        "outputId": "d04ca7a8-093e-4046-bfa9-1ad768d0d503"
      },
      "source": [
        "!pip install horovod[tensorflow,keras,spark]"
      ],
      "execution_count": null,
      "outputs": [
        {
          "output_type": "stream",
          "text": [
            "Collecting horovod[keras,spark,tensorflow]\n",
            "\u001b[?25l  Downloading https://files.pythonhosted.org/packages/d3/93/503830d0de5c7390d65c94ffa60db3719826f3deeb0d055fcfa35b4d7927/horovod-0.21.1.tar.gz (3.2MB)\n",
            "\u001b[K     |████████████████████████████████| 3.2MB 8.4MB/s \n",
            "\u001b[?25hRequirement already satisfied: cloudpickle in /usr/local/lib/python3.6/dist-packages (from horovod[keras,spark,tensorflow]) (1.3.0)\n",
            "Requirement already satisfied: psutil in /usr/local/lib/python3.6/dist-packages (from horovod[keras,spark,tensorflow]) (5.4.8)\n",
            "Requirement already satisfied: pyyaml in /usr/local/lib/python3.6/dist-packages (from horovod[keras,spark,tensorflow]) (3.13)\n",
            "Requirement already satisfied: cffi>=1.4.0 in /usr/local/lib/python3.6/dist-packages (from horovod[keras,spark,tensorflow]) (1.14.4)\n",
            "Requirement already satisfied: dataclasses in /usr/local/lib/python3.6/dist-packages (from horovod[keras,spark,tensorflow]) (0.8)\n",
            "Requirement already satisfied: keras!=2.0.9,!=2.1.0,!=2.1.1,>=2.0.8 in /usr/local/lib/python3.6/dist-packages (from horovod[keras,spark,tensorflow]) (2.4.3)\n",
            "Requirement already satisfied: h5py<3 in /usr/local/lib/python3.6/dist-packages (from horovod[keras,spark,tensorflow]) (2.10.0)\n",
            "Requirement already satisfied: numpy in /usr/local/lib/python3.6/dist-packages (from horovod[keras,spark,tensorflow]) (1.19.5)\n",
            "Collecting petastorm>=0.9.8\n",
            "\u001b[?25l  Downloading https://files.pythonhosted.org/packages/67/2c/22c332dee5679e4de091ff613a90eb599f4924e51d766d538aa165aa1893/petastorm-0.9.8-py2.py3-none-any.whl (282kB)\n",
            "\u001b[K     |████████████████████████████████| 286kB 42.4MB/s \n",
            "\u001b[?25hCollecting pyarrow>=0.15.0\n",
            "\u001b[?25l  Downloading https://files.pythonhosted.org/packages/33/67/2f4fcce1b41bcc7e88a6bfdb42046597ae72e5bc95c2789b7c5ac893c433/pyarrow-3.0.0-cp36-cp36m-manylinux2014_x86_64.whl (20.7MB)\n",
            "\u001b[K     |████████████████████████████████| 20.7MB 1.4MB/s \n",
            "\u001b[?25hRequirement already satisfied: pyspark>=2.3.2 in /usr/local/lib/python3.6/dist-packages (from horovod[keras,spark,tensorflow]) (3.0.1)\n",
            "Requirement already satisfied: tensorflow in /usr/local/lib/python3.6/dist-packages (from horovod[keras,spark,tensorflow]) (2.4.1)\n",
            "Requirement already satisfied: pycparser in /usr/local/lib/python3.6/dist-packages (from cffi>=1.4.0->horovod[keras,spark,tensorflow]) (2.20)\n",
            "Requirement already satisfied: scipy>=0.14 in /usr/local/lib/python3.6/dist-packages (from keras!=2.0.9,!=2.1.0,!=2.1.1,>=2.0.8->horovod[keras,spark,tensorflow]) (1.4.1)\n",
            "Requirement already satisfied: six in /usr/local/lib/python3.6/dist-packages (from h5py<3->horovod[keras,spark,tensorflow]) (1.15.0)\n",
            "Requirement already satisfied: dill>=0.2.1 in /usr/local/lib/python3.6/dist-packages (from petastorm>=0.9.8->horovod[keras,spark,tensorflow]) (0.3.3)\n",
            "Requirement already satisfied: packaging>=15.0 in /usr/local/lib/python3.6/dist-packages (from petastorm>=0.9.8->horovod[keras,spark,tensorflow]) (20.8)\n",
            "Requirement already satisfied: pyzmq>=14.0.0 in /usr/local/lib/python3.6/dist-packages (from petastorm>=0.9.8->horovod[keras,spark,tensorflow]) (21.0.2)\n",
            "Collecting diskcache>=3.0.0\n",
            "\u001b[?25l  Downloading https://files.pythonhosted.org/packages/6a/5e/3deb8f9c83bead2af6f2cda97c4400516488464fede2853875a81e502953/diskcache-5.2.1-py3-none-any.whl (44kB)\n",
            "\u001b[K     |████████████████████████████████| 51kB 4.5MB/s \n",
            "\u001b[?25hRequirement already satisfied: pandas>=0.19.0 in /usr/local/lib/python3.6/dist-packages (from petastorm>=0.9.8->horovod[keras,spark,tensorflow]) (1.1.5)\n",
            "Requirement already satisfied: future>=0.10.2 in /usr/local/lib/python3.6/dist-packages (from petastorm>=0.9.8->horovod[keras,spark,tensorflow]) (0.16.0)\n",
            "Requirement already satisfied: py4j==0.10.9 in /usr/local/lib/python3.6/dist-packages (from pyspark>=2.3.2->horovod[keras,spark,tensorflow]) (0.10.9)\n",
            "Requirement already satisfied: keras-preprocessing~=1.1.2 in /usr/local/lib/python3.6/dist-packages (from tensorflow->horovod[keras,spark,tensorflow]) (1.1.2)\n",
            "Requirement already satisfied: absl-py~=0.10 in /usr/local/lib/python3.6/dist-packages (from tensorflow->horovod[keras,spark,tensorflow]) (0.10.0)\n",
            "Requirement already satisfied: opt-einsum~=3.3.0 in /usr/local/lib/python3.6/dist-packages (from tensorflow->horovod[keras,spark,tensorflow]) (3.3.0)\n",
            "Requirement already satisfied: wheel~=0.35 in /usr/local/lib/python3.6/dist-packages (from tensorflow->horovod[keras,spark,tensorflow]) (0.36.2)\n",
            "Requirement already satisfied: astunparse~=1.6.3 in /usr/local/lib/python3.6/dist-packages (from tensorflow->horovod[keras,spark,tensorflow]) (1.6.3)\n",
            "Requirement already satisfied: wrapt~=1.12.1 in /usr/local/lib/python3.6/dist-packages (from tensorflow->horovod[keras,spark,tensorflow]) (1.12.1)\n",
            "Requirement already satisfied: typing-extensions~=3.7.4 in /usr/local/lib/python3.6/dist-packages (from tensorflow->horovod[keras,spark,tensorflow]) (3.7.4.3)\n",
            "Requirement already satisfied: termcolor~=1.1.0 in /usr/local/lib/python3.6/dist-packages (from tensorflow->horovod[keras,spark,tensorflow]) (1.1.0)\n",
            "Requirement already satisfied: grpcio~=1.32.0 in /usr/local/lib/python3.6/dist-packages (from tensorflow->horovod[keras,spark,tensorflow]) (1.32.0)\n",
            "Requirement already satisfied: google-pasta~=0.2 in /usr/local/lib/python3.6/dist-packages (from tensorflow->horovod[keras,spark,tensorflow]) (0.2.0)\n",
            "Requirement already satisfied: tensorboard~=2.4 in /usr/local/lib/python3.6/dist-packages (from tensorflow->horovod[keras,spark,tensorflow]) (2.4.1)\n",
            "Requirement already satisfied: flatbuffers~=1.12.0 in /usr/local/lib/python3.6/dist-packages (from tensorflow->horovod[keras,spark,tensorflow]) (1.12)\n",
            "Requirement already satisfied: tensorflow-estimator<2.5.0,>=2.4.0 in /usr/local/lib/python3.6/dist-packages (from tensorflow->horovod[keras,spark,tensorflow]) (2.4.0)\n",
            "Requirement already satisfied: protobuf>=3.9.2 in /usr/local/lib/python3.6/dist-packages (from tensorflow->horovod[keras,spark,tensorflow]) (3.12.4)\n",
            "Requirement already satisfied: gast==0.3.3 in /usr/local/lib/python3.6/dist-packages (from tensorflow->horovod[keras,spark,tensorflow]) (0.3.3)\n",
            "Requirement already satisfied: pyparsing>=2.0.2 in /usr/local/lib/python3.6/dist-packages (from packaging>=15.0->petastorm>=0.9.8->horovod[keras,spark,tensorflow]) (2.4.7)\n",
            "Requirement already satisfied: python-dateutil>=2.7.3 in /usr/local/lib/python3.6/dist-packages (from pandas>=0.19.0->petastorm>=0.9.8->horovod[keras,spark,tensorflow]) (2.8.1)\n",
            "Requirement already satisfied: pytz>=2017.2 in /usr/local/lib/python3.6/dist-packages (from pandas>=0.19.0->petastorm>=0.9.8->horovod[keras,spark,tensorflow]) (2018.9)\n",
            "Requirement already satisfied: google-auth<2,>=1.6.3 in /usr/local/lib/python3.6/dist-packages (from tensorboard~=2.4->tensorflow->horovod[keras,spark,tensorflow]) (1.17.2)\n",
            "Requirement already satisfied: requests<3,>=2.21.0 in /usr/local/lib/python3.6/dist-packages (from tensorboard~=2.4->tensorflow->horovod[keras,spark,tensorflow]) (2.23.0)\n",
            "Requirement already satisfied: setuptools>=41.0.0 in /usr/local/lib/python3.6/dist-packages (from tensorboard~=2.4->tensorflow->horovod[keras,spark,tensorflow]) (51.3.3)\n",
            "Requirement already satisfied: google-auth-oauthlib<0.5,>=0.4.1 in /usr/local/lib/python3.6/dist-packages (from tensorboard~=2.4->tensorflow->horovod[keras,spark,tensorflow]) (0.4.2)\n",
            "Requirement already satisfied: werkzeug>=0.11.15 in /usr/local/lib/python3.6/dist-packages (from tensorboard~=2.4->tensorflow->horovod[keras,spark,tensorflow]) (1.0.1)\n",
            "Requirement already satisfied: markdown>=2.6.8 in /usr/local/lib/python3.6/dist-packages (from tensorboard~=2.4->tensorflow->horovod[keras,spark,tensorflow]) (3.3.3)\n",
            "Requirement already satisfied: tensorboard-plugin-wit>=1.6.0 in /usr/local/lib/python3.6/dist-packages (from tensorboard~=2.4->tensorflow->horovod[keras,spark,tensorflow]) (1.8.0)\n",
            "Requirement already satisfied: cachetools<5.0,>=2.0.0 in /usr/local/lib/python3.6/dist-packages (from google-auth<2,>=1.6.3->tensorboard~=2.4->tensorflow->horovod[keras,spark,tensorflow]) (4.2.1)\n",
            "Requirement already satisfied: pyasn1-modules>=0.2.1 in /usr/local/lib/python3.6/dist-packages (from google-auth<2,>=1.6.3->tensorboard~=2.4->tensorflow->horovod[keras,spark,tensorflow]) (0.2.8)\n",
            "Requirement already satisfied: rsa<5,>=3.1.4; python_version >= \"3\" in /usr/local/lib/python3.6/dist-packages (from google-auth<2,>=1.6.3->tensorboard~=2.4->tensorflow->horovod[keras,spark,tensorflow]) (4.7)\n",
            "Requirement already satisfied: certifi>=2017.4.17 in /usr/local/lib/python3.6/dist-packages (from requests<3,>=2.21.0->tensorboard~=2.4->tensorflow->horovod[keras,spark,tensorflow]) (2020.12.5)\n",
            "Requirement already satisfied: idna<3,>=2.5 in /usr/local/lib/python3.6/dist-packages (from requests<3,>=2.21.0->tensorboard~=2.4->tensorflow->horovod[keras,spark,tensorflow]) (2.10)\n",
            "Requirement already satisfied: urllib3!=1.25.0,!=1.25.1,<1.26,>=1.21.1 in /usr/local/lib/python3.6/dist-packages (from requests<3,>=2.21.0->tensorboard~=2.4->tensorflow->horovod[keras,spark,tensorflow]) (1.24.3)\n",
            "Requirement already satisfied: chardet<4,>=3.0.2 in /usr/local/lib/python3.6/dist-packages (from requests<3,>=2.21.0->tensorboard~=2.4->tensorflow->horovod[keras,spark,tensorflow]) (3.0.4)\n",
            "Requirement already satisfied: requests-oauthlib>=0.7.0 in /usr/local/lib/python3.6/dist-packages (from google-auth-oauthlib<0.5,>=0.4.1->tensorboard~=2.4->tensorflow->horovod[keras,spark,tensorflow]) (1.3.0)\n",
            "Requirement already satisfied: importlib-metadata; python_version < \"3.8\" in /usr/local/lib/python3.6/dist-packages (from markdown>=2.6.8->tensorboard~=2.4->tensorflow->horovod[keras,spark,tensorflow]) (3.4.0)\n",
            "Requirement already satisfied: pyasn1<0.5.0,>=0.4.6 in /usr/local/lib/python3.6/dist-packages (from pyasn1-modules>=0.2.1->google-auth<2,>=1.6.3->tensorboard~=2.4->tensorflow->horovod[keras,spark,tensorflow]) (0.4.8)\n",
            "Requirement already satisfied: oauthlib>=3.0.0 in /usr/local/lib/python3.6/dist-packages (from requests-oauthlib>=0.7.0->google-auth-oauthlib<0.5,>=0.4.1->tensorboard~=2.4->tensorflow->horovod[keras,spark,tensorflow]) (3.1.0)\n",
            "Requirement already satisfied: zipp>=0.5 in /usr/local/lib/python3.6/dist-packages (from importlib-metadata; python_version < \"3.8\"->markdown>=2.6.8->tensorboard~=2.4->tensorflow->horovod[keras,spark,tensorflow]) (3.4.0)\n",
            "Building wheels for collected packages: horovod\n",
            "  Building wheel for horovod (setup.py) ... \u001b[?25l\u001b[?25hdone\n",
            "  Created wheel for horovod: filename=horovod-0.21.1-cp36-cp36m-linux_x86_64.whl size=20679917 sha256=084cfa6238fc8874bfab446314d0e4c4ffe3218c71bff2bea207e2371d378e5e\n",
            "  Stored in directory: /root/.cache/pip/wheels/a1/91/85/8e868c735394d482d578639f2dc392ae7f69e11a58a95d6108\n",
            "Successfully built horovod\n",
            "Installing collected packages: pyarrow, diskcache, petastorm, horovod\n",
            "  Found existing installation: pyarrow 0.14.1\n",
            "    Uninstalling pyarrow-0.14.1:\n",
            "      Successfully uninstalled pyarrow-0.14.1\n",
            "Successfully installed diskcache-5.2.1 horovod-0.21.1 petastorm-0.9.8 pyarrow-3.0.0\n"
          ],
          "name": "stdout"
        }
      ]
    },
    {
      "cell_type": "code",
      "metadata": {
        "id": "37EgZ90ZqYrJ"
      },
      "source": [
        "#import horovod.keras as hvd\n",
        "from tensorflow.python.keras import backend as K\n",
        "import math\n",
        "import os\n",
        "from tensorflow.keras import layers\n",
        "import horovod.spark.keras as hvd\n",
        "import numpy as np\n"
      ],
      "execution_count": null,
      "outputs": []
    },
    {
      "cell_type": "code",
      "metadata": {
        "id": "YSX-0RXIrB32"
      },
      "source": [
        "#config =  tf.compat.v1.ConfigProto()\n",
        "#config.gpu_options.allow_growth = True\n",
        "#config.gpu_options.visible_device_list = str(hvd.local_rank())\n",
        "#K.set_session(tf.compat.v1.Session(config=config))"
      ],
      "execution_count": null,
      "outputs": []
    },
    {
      "cell_type": "code",
      "metadata": {
        "colab": {
          "base_uri": "https://localhost:8080/"
        },
        "id": "sJ8vyXNhtsnJ",
        "outputId": "fb7e1676-1efa-45c8-fd82-c6355bb6e0f1"
      },
      "source": [
        "!pip install PyDrive\n",
        "\n",
        "#Import modules\n",
        "from pydrive.auth import GoogleAuth\n",
        "from pydrive.drive import GoogleDrive\n",
        "from google.colab import auth\n",
        "from oauth2client.client import GoogleCredentials\n",
        "\n",
        "#Authenticate and create the PyDrive client\n",
        "auth.authenticate_user()\n",
        "gauth = GoogleAuth()\n",
        "gauth.credentials = GoogleCredentials.get_application_default()\n",
        "drive = GoogleDrive(gauth)\n",
        "\n",
        "#Get the Shareable link\n",
        "#Ex link : https://drive.google.com/file/d/1c7Ffo1Go1dtUpKcSWxdbdVyW4dfhEoUp/view?usp=sharing\n",
        "# Get the id from the link 1JYdxKasFKNfVqx2Iklj7iv_bwPanmi4j\n",
        "downloaded = drive.CreateFile({'id':\"1JYdxKasFKNfVqx2Iklj7iv_bwPanmi4j\"})   \n",
        "# Remember at least what was the file extension\n",
        "downloaded.GetContentFile('fire_data.tar.gz')  "
      ],
      "execution_count": null,
      "outputs": [
        {
          "output_type": "stream",
          "text": [
            "Requirement already satisfied: PyDrive in /usr/local/lib/python3.6/dist-packages (1.3.1)\n",
            "Requirement already satisfied: google-api-python-client>=1.2 in /usr/local/lib/python3.6/dist-packages (from PyDrive) (1.7.12)\n",
            "Requirement already satisfied: PyYAML>=3.0 in /usr/local/lib/python3.6/dist-packages (from PyDrive) (3.13)\n",
            "Requirement already satisfied: oauth2client>=4.0.0 in /usr/local/lib/python3.6/dist-packages (from PyDrive) (4.1.3)\n",
            "Requirement already satisfied: google-auth>=1.4.1 in /usr/local/lib/python3.6/dist-packages (from google-api-python-client>=1.2->PyDrive) (1.17.2)\n",
            "Requirement already satisfied: uritemplate<4dev,>=3.0.0 in /usr/local/lib/python3.6/dist-packages (from google-api-python-client>=1.2->PyDrive) (3.0.1)\n",
            "Requirement already satisfied: six<2dev,>=1.6.1 in /usr/local/lib/python3.6/dist-packages (from google-api-python-client>=1.2->PyDrive) (1.15.0)\n",
            "Requirement already satisfied: httplib2<1dev,>=0.17.0 in /usr/local/lib/python3.6/dist-packages (from google-api-python-client>=1.2->PyDrive) (0.17.4)\n",
            "Requirement already satisfied: google-auth-httplib2>=0.0.3 in /usr/local/lib/python3.6/dist-packages (from google-api-python-client>=1.2->PyDrive) (0.0.4)\n",
            "Requirement already satisfied: pyasn1-modules>=0.0.5 in /usr/local/lib/python3.6/dist-packages (from oauth2client>=4.0.0->PyDrive) (0.2.8)\n",
            "Requirement already satisfied: pyasn1>=0.1.7 in /usr/local/lib/python3.6/dist-packages (from oauth2client>=4.0.0->PyDrive) (0.4.8)\n",
            "Requirement already satisfied: rsa>=3.1.4 in /usr/local/lib/python3.6/dist-packages (from oauth2client>=4.0.0->PyDrive) (4.7)\n",
            "Requirement already satisfied: setuptools>=40.3.0 in /usr/local/lib/python3.6/dist-packages (from google-auth>=1.4.1->google-api-python-client>=1.2->PyDrive) (51.3.3)\n",
            "Requirement already satisfied: cachetools<5.0,>=2.0.0 in /usr/local/lib/python3.6/dist-packages (from google-auth>=1.4.1->google-api-python-client>=1.2->PyDrive) (4.2.1)\n"
          ],
          "name": "stdout"
        }
      ]
    },
    {
      "cell_type": "code",
      "metadata": {
        "colab": {
          "base_uri": "https://localhost:8080/"
        },
        "id": "77lCq7v-vXfl",
        "outputId": "cb079c54-5794-42a0-dbc3-cfc665b6cf34"
      },
      "source": [
        "!tar xvf fire_data.tar.gz\n",
        "!mv Codes/datasets/tmp/* fire-light/Codes/datasets/"
      ],
      "execution_count": null,
      "outputs": [
        {
          "output_type": "stream",
          "text": [
            "Codes/datasets/tmp/fire/\n",
            "Codes/datasets/tmp/fire/20200904_090428_038.jpg\n",
            "Codes/datasets/tmp/fire/20200904_090428_026.jpg\n",
            "Codes/datasets/tmp/fire/20200904_090428_091.jpg\n",
            "Codes/datasets/tmp/fire/20200724_175212_066.jpg\n",
            "Codes/datasets/tmp/fire/20200724_175212_031.jpg\n",
            "Codes/datasets/tmp/fire/20200904_090428_060.jpg\n",
            "Codes/datasets/tmp/fire/20200724_175212_073.jpg\n",
            "Codes/datasets/tmp/fire/20200904_090428_023.jpg\n",
            "Codes/datasets/tmp/fire/20200724_175212_071.jpg\n",
            "Codes/datasets/tmp/fire/20200724_175212_065.jpg\n",
            "Codes/datasets/tmp/fire/20200904_090428_020.jpg\n",
            "Codes/datasets/tmp/fire/20200904_090428_005.jpg\n",
            "Codes/datasets/tmp/fire/20200904_090428_079.jpg\n",
            "Codes/datasets/tmp/fire/20200724_175212_004.jpg\n",
            "Codes/datasets/tmp/fire/20200904_090428_049.jpg\n",
            "Codes/datasets/tmp/fire/20200904_090428_034.jpg\n",
            "Codes/datasets/tmp/fire/20200904_090428_068.jpg\n",
            "Codes/datasets/tmp/fire/20200904_090428_031.jpg\n",
            "Codes/datasets/tmp/fire/20200724_175212_015.jpg\n",
            "Codes/datasets/tmp/fire/20200904_090428_053.jpg\n",
            "Codes/datasets/tmp/fire/20200724_175212_013.jpg\n",
            "Codes/datasets/tmp/fire/20200724_175212_009.jpg\n",
            "Codes/datasets/tmp/fire/20200904_090428_014.jpg\n",
            "Codes/datasets/tmp/fire/20200904_090428_097.jpg\n",
            "Codes/datasets/tmp/fire/20200904_090428_029.jpg\n",
            "Codes/datasets/tmp/fire/20200904_090428_045.jpg\n",
            "Codes/datasets/tmp/fire/20200904_090428_072.jpg\n",
            "Codes/datasets/tmp/fire/20200724_175212_020.jpg\n",
            "Codes/datasets/tmp/fire/20200904_090428_063.jpg\n",
            "Codes/datasets/tmp/fire/20200724_175212_017.jpg\n",
            "Codes/datasets/tmp/fire/20200904_090428_084.jpg\n",
            "Codes/datasets/tmp/fire/20200724_175212_016.jpg\n",
            "Codes/datasets/tmp/fire/20200724_175212_047.jpg\n",
            "Codes/datasets/tmp/fire/20200904_090428_043.jpg\n",
            "Codes/datasets/tmp/fire/20200904_090428_088.jpg\n",
            "Codes/datasets/tmp/fire/20200904_090428_011.jpg\n",
            "Codes/datasets/tmp/fire/20200724_175212_005.jpg\n",
            "Codes/datasets/tmp/fire/20200904_090428_057.jpg\n",
            "Codes/datasets/tmp/fire/20200724_175212_051.jpg\n",
            "Codes/datasets/tmp/fire/20200904_090428_094.jpg\n",
            "Codes/datasets/tmp/fire/20200724_175212_049.jpg\n",
            "Codes/datasets/tmp/fire/20200724_175212_060.jpg\n",
            "Codes/datasets/tmp/fire/20200904_090428_090.jpg\n",
            "Codes/datasets/tmp/fire/20200904_090428_003.jpg\n",
            "Codes/datasets/tmp/fire/20200724_175212_030.jpg\n",
            "Codes/datasets/tmp/fire/20200904_090428_093.jpg\n",
            "Codes/datasets/tmp/fire/20200724_175212_043.jpg\n",
            "Codes/datasets/tmp/fire/20200904_090428_030.jpg\n",
            "Codes/datasets/tmp/fire/20200724_175212_022.jpg\n",
            "Codes/datasets/tmp/fire/20200724_175212_059.jpg\n",
            "Codes/datasets/tmp/fire/20200724_175212_063.jpg\n",
            "Codes/datasets/tmp/fire/20200904_090428_009.jpg\n",
            "Codes/datasets/tmp/fire/20200904_090428_067.jpg\n",
            "Codes/datasets/tmp/fire/20200724_175212_035.jpg\n",
            "Codes/datasets/tmp/fire/20200904_090428_039.jpg\n",
            "Codes/datasets/tmp/fire/20200724_175212_026.jpg\n",
            "Codes/datasets/tmp/fire/20200904_090428_025.jpg\n",
            "Codes/datasets/tmp/fire/20200904_090428_007.jpg\n",
            "Codes/datasets/tmp/fire/20200904_090428_018.jpg\n",
            "Codes/datasets/tmp/fire/20200724_175212_053.jpg\n",
            "Codes/datasets/tmp/fire/20200904_090428_046.jpg\n",
            "Codes/datasets/tmp/fire/20200904_090428_028.jpg\n",
            "Codes/datasets/tmp/fire/20200904_090428_050.jpg\n",
            "Codes/datasets/tmp/fire/20200904_090428_075.jpg\n",
            "Codes/datasets/tmp/fire/20200904_090428_044.jpg\n",
            "Codes/datasets/tmp/fire/20200724_175212_011.jpg\n",
            "Codes/datasets/tmp/fire/20200724_175212_055.jpg\n",
            "Codes/datasets/tmp/fire/20200724_175212_061.jpg\n",
            "Codes/datasets/tmp/fire/20200724_175212_070.jpg\n",
            "Codes/datasets/tmp/fire/20200904_090428_021.jpg\n",
            "Codes/datasets/tmp/fire/20200904_090428_080.jpg\n",
            "Codes/datasets/tmp/fire/20200724_175212_010.jpg\n",
            "Codes/datasets/tmp/fire/20200904_090428_056.jpg\n",
            "Codes/datasets/tmp/fire/20200724_175212_052.jpg\n",
            "Codes/datasets/tmp/fire/20200904_090428_016.jpg\n",
            "Codes/datasets/tmp/fire/20200904_090428_006.jpg\n",
            "Codes/datasets/tmp/fire/20200724_175212_006.jpg\n",
            "Codes/datasets/tmp/fire/20200904_090428_013.jpg\n",
            "Codes/datasets/tmp/fire/20200904_090428_048.jpg\n",
            "Codes/datasets/tmp/fire/20200904_090428_073.jpg\n",
            "Codes/datasets/tmp/fire/20200904_090428_092.jpg\n",
            "Codes/datasets/tmp/fire/20200904_090428_064.jpg\n",
            "Codes/datasets/tmp/fire/20200724_175212_074.jpg\n",
            "Codes/datasets/tmp/fire/20200904_090428_036.jpg\n",
            "Codes/datasets/tmp/fire/20200724_175212_072.jpg\n",
            "Codes/datasets/tmp/fire/20200724_175212_050.jpg\n",
            "Codes/datasets/tmp/fire/20200904_090428_069.jpg\n",
            "Codes/datasets/tmp/fire/20200904_090428_037.jpg\n",
            "Codes/datasets/tmp/fire/20200724_175212_037.jpg\n",
            "Codes/datasets/tmp/fire/20200904_090428_008.jpg\n",
            "Codes/datasets/tmp/fire/20200724_175212_067.jpg\n",
            "Codes/datasets/tmp/fire/20200904_090428_042.jpg\n",
            "Codes/datasets/tmp/fire/20200904_090428_095.jpg\n",
            "Codes/datasets/tmp/fire/20200904_090428_065.jpg\n",
            "Codes/datasets/tmp/fire/20200724_175212_045.jpg\n",
            "Codes/datasets/tmp/fire/20200724_175212_064.jpg\n",
            "Codes/datasets/tmp/fire/20200904_090428_078.jpg\n",
            "Codes/datasets/tmp/fire/20200904_090428_061.jpg\n",
            "Codes/datasets/tmp/fire/20200904_090428_055.jpg\n",
            "Codes/datasets/tmp/fire/20200904_090428_024.jpg\n",
            "Codes/datasets/tmp/fire/20200724_175212_034.jpg\n",
            "Codes/datasets/tmp/fire/20200724_175212_048.jpg\n",
            "Codes/datasets/tmp/fire/20200724_175212_021.jpg\n",
            "Codes/datasets/tmp/fire/20200904_090428_059.jpg\n",
            "Codes/datasets/tmp/fire/20200724_175212_032.jpg\n",
            "Codes/datasets/tmp/fire/20200724_175212_014.jpg\n",
            "Codes/datasets/tmp/fire/20200904_090428_083.jpg\n",
            "Codes/datasets/tmp/fire/20200724_175212_044.jpg\n",
            "Codes/datasets/tmp/fire/20200904_090428_058.jpg\n",
            "Codes/datasets/tmp/fire/20200724_175212_003.jpg\n",
            "Codes/datasets/tmp/fire/20200724_175212_062.jpg\n",
            "Codes/datasets/tmp/fire/20200724_175212_019.jpg\n",
            "Codes/datasets/tmp/fire/20200724_175212_054.jpg\n",
            "Codes/datasets/tmp/fire/20200724_175212_075.jpg\n",
            "Codes/datasets/tmp/fire/20200724_175212_069.jpg\n",
            "Codes/datasets/tmp/fire/20200904_090428_085.jpg\n",
            "Codes/datasets/tmp/fire/20200904_090428_087.jpg\n",
            "Codes/datasets/tmp/fire/20200904_090428_001.jpg\n",
            "Codes/datasets/tmp/fire/20200724_175212_028.jpg\n",
            "Codes/datasets/tmp/fire/20200904_090428_054.jpg\n",
            "Codes/datasets/tmp/fire/20200904_090428_062.jpg\n",
            "Codes/datasets/tmp/fire/20200904_090428_032.jpg\n",
            "Codes/datasets/tmp/fire/20200904_090428_082.jpg\n",
            "Codes/datasets/tmp/fire/20200904_090428_040.jpg\n",
            "Codes/datasets/tmp/fire/20200904_090428_035.jpg\n",
            "Codes/datasets/tmp/fire/20200904_090428_089.jpg\n",
            "Codes/datasets/tmp/fire/20200904_090428_022.jpg\n",
            "Codes/datasets/tmp/fire/20200904_090428_099.jpg\n",
            "Codes/datasets/tmp/fire/20200724_175212_027.jpg\n",
            "Codes/datasets/tmp/fire/20200904_090428_070.jpg\n",
            "Codes/datasets/tmp/fire/20200724_175212_040.jpg\n",
            "Codes/datasets/tmp/fire/20200904_090428_076.jpg\n",
            "Codes/datasets/tmp/fire/20200904_090428_066.jpg\n",
            "Codes/datasets/tmp/fire/20200724_175212_041.jpg\n",
            "Codes/datasets/tmp/fire/20200724_175212_038.jpg\n",
            "Codes/datasets/tmp/fire/20200724_175212_008.jpg\n",
            "Codes/datasets/tmp/fire/20200724_175212_056.jpg\n",
            "Codes/datasets/tmp/fire/20200904_090428_098.jpg\n",
            "Codes/datasets/tmp/fire/20200724_175212_033.jpg\n",
            "Codes/datasets/tmp/fire/20200904_090428_086.jpg\n",
            "Codes/datasets/tmp/fire/20200724_175212_039.jpg\n",
            "Codes/datasets/tmp/fire/20200904_090428_074.jpg\n",
            "Codes/datasets/tmp/fire/20200904_090428_019.jpg\n",
            "Codes/datasets/tmp/fire/20200724_175212_007.jpg\n",
            "Codes/datasets/tmp/fire/20200904_090428_033.jpg\n",
            "Codes/datasets/tmp/fire/20200724_175212_036.jpg\n",
            "Codes/datasets/tmp/fire/20200724_175212_023.jpg\n",
            "Codes/datasets/tmp/fire/20200724_175212_029.jpg\n",
            "Codes/datasets/tmp/fire/20200904_090428_096.jpg\n",
            "Codes/datasets/tmp/fire/20200724_175212_046.jpg\n",
            "Codes/datasets/tmp/fire/20200724_175212_018.jpg\n",
            "Codes/datasets/tmp/fire/20200904_090428_010.jpg\n",
            "Codes/datasets/tmp/fire/20200724_175212_068.jpg\n",
            "Codes/datasets/tmp/fire/20200904_090428_052.jpg\n",
            "Codes/datasets/tmp/fire/20200904_090428_015.jpg\n",
            "Codes/datasets/tmp/fire/20200904_090428_041.jpg\n",
            "Codes/datasets/tmp/fire/20200724_175212_057.jpg\n",
            "Codes/datasets/tmp/fire/20200904_090428_027.jpg\n",
            "Codes/datasets/tmp/fire/20200904_090428_071.jpg\n",
            "Codes/datasets/tmp/fire/20200724_175212_012.jpg\n",
            "Codes/datasets/tmp/fire/20200904_090428_081.jpg\n",
            "Codes/datasets/tmp/fire/20200904_090428_004.jpg\n",
            "Codes/datasets/tmp/fire/20200724_175212_002.jpg\n",
            "Codes/datasets/tmp/fire/20200904_090428_100.jpg\n",
            "Codes/datasets/tmp/fire/20200904_090428_077.jpg\n",
            "Codes/datasets/tmp/fire/20200724_175212_042.jpg\n",
            "Codes/datasets/tmp/fire/20200904_090428_012.jpg\n",
            "Codes/datasets/tmp/fire/20200904_090428_017.jpg\n",
            "Codes/datasets/tmp/fire/20200904_090428_051.jpg\n",
            "Codes/datasets/tmp/fire/20200904_090428_002.jpg\n",
            "Codes/datasets/tmp/fire/20200724_175212_024.jpg\n",
            "Codes/datasets/tmp/fire/20200724_175212_058.jpg\n",
            "Codes/datasets/tmp/fire/20200724_175212_025.jpg\n",
            "Codes/datasets/tmp/fire/20200904_090428_047.jpg\n",
            "Codes/datasets/tmp/fire/20200724_175212_001.jpg\n",
            "Codes/datasets/tmp/nofire/\n",
            "Codes/datasets/tmp/nofire/20200724_175219_012.jpg\n",
            "Codes/datasets/tmp/nofire/20200724_175219_021.jpg\n",
            "Codes/datasets/tmp/nofire/20200724_175219_002.jpg\n",
            "Codes/datasets/tmp/nofire/20200904_090357_023.jpg\n",
            "Codes/datasets/tmp/nofire/20200724_175219_033.jpg\n",
            "Codes/datasets/tmp/nofire/20200904_090357_017.jpg\n",
            "Codes/datasets/tmp/nofire/20200904_090357_044.jpg\n",
            "Codes/datasets/tmp/nofire/20200904_090357_014.jpg\n",
            "Codes/datasets/tmp/nofire/20200904_090357_031.jpg\n",
            "Codes/datasets/tmp/nofire/20200904_090357_010.jpg\n",
            "Codes/datasets/tmp/nofire/20200724_175219_029.jpg\n",
            "Codes/datasets/tmp/nofire/20200724_175219_004.jpg\n",
            "Codes/datasets/tmp/nofire/20200904_090357_048.jpg\n",
            "Codes/datasets/tmp/nofire/20200724_175219_034.jpg\n",
            "Codes/datasets/tmp/nofire/20200904_090357_036.jpg\n",
            "Codes/datasets/tmp/nofire/20200904_090357_012.jpg\n",
            "Codes/datasets/tmp/nofire/20200724_175219_025.jpg\n",
            "Codes/datasets/tmp/nofire/20200724_175219_003.jpg\n",
            "Codes/datasets/tmp/nofire/20200904_090356.jpg\n",
            "Codes/datasets/tmp/nofire/20200724_175219_031.jpg\n",
            "Codes/datasets/tmp/nofire/20200904_090357_051.jpg\n",
            "Codes/datasets/tmp/nofire/20200904_090357_052.jpg\n",
            "Codes/datasets/tmp/nofire/20200904_090357_039.jpg\n",
            "Codes/datasets/tmp/nofire/20200724_175219_010.jpg\n",
            "Codes/datasets/tmp/nofire/20200724_175219_023.jpg\n",
            "Codes/datasets/tmp/nofire/20200724_175219_026.jpg\n",
            "Codes/datasets/tmp/nofire/20200904_090357_055.jpg\n",
            "Codes/datasets/tmp/nofire/20200724_175219_005.jpg\n",
            "Codes/datasets/tmp/nofire/20200724_175219_008.jpg\n",
            "Codes/datasets/tmp/nofire/20200904_090357_049.jpg\n",
            "Codes/datasets/tmp/nofire/20200724_175219_024.jpg\n",
            "Codes/datasets/tmp/nofire/20200724_175219_007.jpg\n",
            "Codes/datasets/tmp/nofire/20200724_175219_001.jpg\n",
            "Codes/datasets/tmp/nofire/20200904_090357_022.jpg\n",
            "Codes/datasets/tmp/nofire/20200904_090357_008.jpg\n",
            "Codes/datasets/tmp/nofire/20200904_090357_046.jpg\n",
            "Codes/datasets/tmp/nofire/20200904_090357_009.jpg\n",
            "Codes/datasets/tmp/nofire/20200724_175219_028.jpg\n",
            "Codes/datasets/tmp/nofire/20200724_175219_022.jpg\n",
            "Codes/datasets/tmp/nofire/20200904_090357_035.jpg\n",
            "Codes/datasets/tmp/nofire/20200904_090357_050.jpg\n",
            "Codes/datasets/tmp/nofire/20200904_090357_038.jpg\n",
            "Codes/datasets/tmp/nofire/20200904_090357_058.jpg\n",
            "Codes/datasets/tmp/nofire/20200904_090357_034.jpg\n",
            "Codes/datasets/tmp/nofire/20200904_090357_025.jpg\n",
            "Codes/datasets/tmp/nofire/20200904_090357_041.jpg\n",
            "Codes/datasets/tmp/nofire/20200724_175219_019.jpg\n",
            "Codes/datasets/tmp/nofire/20200904_090357_043.jpg\n",
            "Codes/datasets/tmp/nofire/20200904_090357_033.jpg\n",
            "Codes/datasets/tmp/nofire/20200904_090357_027.jpg\n",
            "Codes/datasets/tmp/nofire/20200904_090357_047.jpg\n",
            "Codes/datasets/tmp/nofire/20200904_090357_054.jpg\n",
            "Codes/datasets/tmp/nofire/20200724_175219_027.jpg\n",
            "Codes/datasets/tmp/nofire/20200904_090357_006.jpg\n",
            "Codes/datasets/tmp/nofire/20200904_090357_060.jpg\n",
            "Codes/datasets/tmp/nofire/20200904_090357_013.jpg\n",
            "Codes/datasets/tmp/nofire/20200904_090357_016.jpg\n",
            "Codes/datasets/tmp/nofire/20200904_090357_037.jpg\n",
            "Codes/datasets/tmp/nofire/20200904_090357_021.jpg\n",
            "Codes/datasets/tmp/nofire/20200904_090357_001.jpg\n",
            "Codes/datasets/tmp/nofire/20200724_175219_020.jpg\n",
            "Codes/datasets/tmp/nofire/20200904_090357_059.jpg\n",
            "Codes/datasets/tmp/nofire/20200904_090357_020.jpg\n",
            "Codes/datasets/tmp/nofire/20200904_090357_015.jpg\n",
            "Codes/datasets/tmp/nofire/20200904_090357_040.jpg\n",
            "Codes/datasets/tmp/nofire/20200904_090357_032.jpg\n",
            "Codes/datasets/tmp/nofire/20200904_090357_019.jpg\n",
            "Codes/datasets/tmp/nofire/20200724_175219_030.jpg\n",
            "Codes/datasets/tmp/nofire/20200904_090357_056.jpg\n",
            "Codes/datasets/tmp/nofire/20200904_090357_057.jpg\n",
            "Codes/datasets/tmp/nofire/20200904_090357_004.jpg\n",
            "Codes/datasets/tmp/nofire/20200904_090357_030.jpg\n",
            "Codes/datasets/tmp/nofire/20200904_090357_011.jpg\n",
            "Codes/datasets/tmp/nofire/20200724_175219_018.jpg\n",
            "Codes/datasets/tmp/nofire/20200904_090357_045.jpg\n",
            "Codes/datasets/tmp/nofire/20200904_090357_002.jpg\n",
            "Codes/datasets/tmp/nofire/20200904_090357_053.jpg\n",
            "Codes/datasets/tmp/nofire/20200724_175219_016.jpg\n",
            "Codes/datasets/tmp/nofire/20200724_175219_013.jpg\n",
            "Codes/datasets/tmp/nofire/20200904_090357_042.jpg\n",
            "Codes/datasets/tmp/nofire/20200904_090357_024.jpg\n",
            "Codes/datasets/tmp/nofire/20200724_175219_006.jpg\n",
            "Codes/datasets/tmp/nofire/20200724_175219_032.jpg\n",
            "Codes/datasets/tmp/nofire/20200904_090357_026.jpg\n",
            "Codes/datasets/tmp/nofire/20200904_090357_028.jpg\n",
            "Codes/datasets/tmp/nofire/20200904_090357_005.jpg\n",
            "Codes/datasets/tmp/nofire/20200724_175219_009.jpg\n",
            "Codes/datasets/tmp/nofire/20200724_175219_014.jpg\n",
            "Codes/datasets/tmp/nofire/20200904_090357_007.jpg\n",
            "Codes/datasets/tmp/nofire/20200724_175219_017.jpg\n",
            "Codes/datasets/tmp/nofire/20200904_090357_029.jpg\n",
            "Codes/datasets/tmp/nofire/20200904_090357_018.jpg\n",
            "Codes/datasets/tmp/nofire/20200724_175219_011.jpg\n",
            "Codes/datasets/tmp/nofire/20200904_090357_003.jpg\n",
            "Codes/datasets/tmp/nofire/20200724_175219_015.jpg\n",
            "mv: target 'fire-light/Codes/datasets/' is not a directory\n"
          ],
          "name": "stdout"
        }
      ]
    },
    {
      "cell_type": "code",
      "metadata": {
        "id": "bPLFbY-Uvi2O"
      },
      "source": [
        "dir_fire = '/content/Codes/datasets/tmp/fire'\n",
        "dir_no_fire = '/content/Codes/datasets/tmp/nofire'"
      ],
      "execution_count": null,
      "outputs": []
    },
    {
      "cell_type": "code",
      "metadata": {
        "colab": {
          "base_uri": "https://localhost:8080/"
        },
        "id": "HoWp5Z4Ozk2z",
        "outputId": "1c3a39cc-6dcc-4af8-a3dd-a2d7d1872921"
      },
      "source": [
        "fire = len([name for name in os.listdir(dir_fire) if os.path.isfile(os.path.join(dir_fire, name))])\n",
        "no_fire = len([name for name in os.listdir(dir_no_fire) if os.path.isfile(os.path.join(dir_no_fire, name))])\n",
        "total = fire + no_fire\n",
        "weight_for_fire = (1 / fire) * total / 2.0\n",
        "weight_for_no_fire = (1 / no_fire) * total / 2.0\n",
        "print(\"Weight for class fire : {:.2f}\".format(weight_for_fire))\n",
        "print(\"Weight for class No_fire : {:.2f}\".format(weight_for_no_fire))\n"
      ],
      "execution_count": null,
      "outputs": [
        {
          "output_type": "stream",
          "text": [
            "Weight for class fire : 0.77\n",
            "Weight for class No_fire : 1.42\n"
          ],
          "name": "stdout"
        }
      ]
    },
    {
      "cell_type": "code",
      "metadata": {
        "id": "6R9x-BVG0xfX"
      },
      "source": [
        "new_size = {'width': 256, 'height': 256}\n",
        "Config_classification = {\"batch_size\": 32, 'Save_Model': True, 'Epochs': 40, \"TrainingPlot\": True}\n",
        "epochs = Config_classification.get('Epochs')\n",
        "image_size = (new_size.get('width'), new_size.get('height'))\n",
        "batch_size = Config_classification.get('batch_size')\n"
      ],
      "execution_count": null,
      "outputs": []
    },
    {
      "cell_type": "code",
      "metadata": {
        "colab": {
          "base_uri": "https://localhost:8080/"
        },
        "id": "HTxCCW3A3osJ",
        "outputId": "d1754552-dcf9-448b-ca77-037fd416865d"
      },
      "source": [
        "train_ds = tf.keras.preprocessing.image_dataset_from_directory(\n",
        "        \"/content/Codes/datasets/tmp/\", validation_split=0.2, subset=\"training\", seed=1337, image_size=image_size,\n",
        "        batch_size=batch_size, shuffle=True, labels='inferred'\n",
        "    )\n",
        "\n",
        "val_ds = tf.keras.preprocessing.image_dataset_from_directory(\n",
        "        \"/content/Codes/datasets/tmp/\", validation_split=0.2, subset=\"validation\", seed=1337, image_size=image_size,\n",
        "        batch_size=batch_size, shuffle=True,  labels='inferred'\n",
        "    )\n",
        "\n",
        "print(train_ds.class_names)"
      ],
      "execution_count": null,
      "outputs": [
        {
          "output_type": "stream",
          "text": [
            "Found 270 files belonging to 2 classes.\n",
            "Using 216 files for training.\n",
            "Found 270 files belonging to 2 classes.\n",
            "Using 54 files for validation.\n",
            "['fire', 'nofire']\n"
          ],
          "name": "stdout"
        }
      ]
    },
    {
      "cell_type": "code",
      "metadata": {
        "id": "6n5RHaT9JuUZ"
      },
      "source": [
        "\n",
        "\n",
        "def make_model_keras(input_shape, num_classes):\n",
        "    \"\"\"\n",
        "    This function define the DNN Model based on the Keras example.\n",
        "    :param input_shape: The requested size of the image\n",
        "    :param num_classes: In this classification problem, there are two classes: 1) Fire and 2) Non_Fire.\n",
        "    :return: The built model is returned\n",
        "    \"\"\"\n",
        "    inputs = keras.Input(shape=input_shape)\n",
        "    # x = data_augmentation(inputs)  # 1) First option\n",
        "    x = inputs  # 2) Second option\n",
        "\n",
        "    x = layers.experimental.preprocessing.Rescaling(1.0 / 255)(x)\n",
        "    # x = layers.Conv2D(32, 3, strides=2, padding=\"same\")(x)\n",
        "    x = layers.Conv2D(8, 3, strides=2, padding=\"same\")(x)\n",
        "    x = layers.BatchNormalization()(x)\n",
        "    x = layers.Activation(\"relu\")(x)\n",
        "\n",
        "    previous_block_activation = x\n",
        "\n",
        "    # for size in [128, 256, 512, 728]:\n",
        "    for size in [8]:\n",
        "        x = layers.Activation(\"relu\")(x)\n",
        "        x = layers.SeparableConv2D(size, 3, padding=\"same\")(x)\n",
        "        x = layers.BatchNormalization()(x)\n",
        "\n",
        "        x = layers.Activation(\"relu\")(x)\n",
        "        x = layers.SeparableConv2D(size, 3, padding=\"same\")(x)\n",
        "        x = layers.BatchNormalization()(x)\n",
        "\n",
        "        x = layers.MaxPooling2D(3, strides=2, padding=\"same\")(x)\n",
        "\n",
        "        residual = layers.Conv2D(size, 1, strides=2, padding=\"same\")(previous_block_activation)\n",
        "\n",
        "        x = layers.add([x, residual])\n",
        "        previous_block_activation = x\n",
        "    x = layers.SeparableConv2D(8, 3, padding=\"same\")(x)\n",
        "    x = layers.BatchNormalization()(x)\n",
        "    x = layers.Activation(\"relu\")(x)\n",
        "\n",
        "    x = layers.GlobalAveragePooling2D()(x)\n",
        "    if num_classes == 2:\n",
        "        activation = \"sigmoid\"\n",
        "        units = 1\n",
        "    else:\n",
        "        activation = \"softmax\"\n",
        "        units = num_classes\n",
        "\n",
        "    x = layers.Dropout(0.5)(x)\n",
        "    outputs = layers.Dense(units, activation=activation)(x)\n",
        "    return keras.Model(inputs, outputs, name=\"model_fire\")"
      ],
      "execution_count": null,
      "outputs": []
    },
    {
      "cell_type": "code",
      "metadata": {
        "id": "ThxoqapEJ70t"
      },
      "source": [
        "model = make_model_keras(input_shape=image_size + (3,), num_classes=2)"
      ],
      "execution_count": null,
      "outputs": []
    },
    {
      "cell_type": "code",
      "metadata": {
        "id": "F9c35KgJKSbO",
        "colab": {
          "base_uri": "https://localhost:8080/"
        },
        "outputId": "9d281b61-7419-4c77-bfaf-ac0b81dbfd01"
      },
      "source": [
        "model.compile(optimizer=keras.optimizers.Adam(1e-3), loss=\"binary_crossentropy\", metrics=[\"accuracy\"], )\n",
        "\n",
        "import time\n",
        "start_time = time.time()\n",
        "\n",
        "res_fire = model.fit(train_ds, epochs=epochs, validation_data=val_ds, batch_size=batch_size)\n",
        "\n",
        "time_A = print(\"--- %s seconds ---\" % (time.time() - start_time))"
      ],
      "execution_count": null,
      "outputs": [
        {
          "output_type": "stream",
          "text": [
            "Epoch 1/40\n",
            "7/7 [==============================] - 18s 1s/step - loss: 0.0783 - accuracy: 0.9732 - val_loss: 0.4123 - val_accuracy: 0.9444\n",
            "Epoch 2/40\n",
            "7/7 [==============================] - 17s 1s/step - loss: 0.1487 - accuracy: 0.9178 - val_loss: 0.0264 - val_accuracy: 1.0000\n",
            "Epoch 3/40\n",
            "7/7 [==============================] - 17s 1s/step - loss: 0.0647 - accuracy: 0.9748 - val_loss: 0.5596 - val_accuracy: 0.7778\n",
            "Epoch 4/40\n",
            "7/7 [==============================] - 17s 1s/step - loss: 0.1327 - accuracy: 0.9184 - val_loss: 0.0660 - val_accuracy: 0.9815\n",
            "Epoch 5/40\n",
            "7/7 [==============================] - 17s 1s/step - loss: 0.0891 - accuracy: 0.9491 - val_loss: 1.2945 - val_accuracy: 0.7593\n",
            "Epoch 6/40\n",
            "7/7 [==============================] - 17s 1s/step - loss: 0.1075 - accuracy: 0.9438 - val_loss: 0.1193 - val_accuracy: 0.9630\n",
            "Epoch 7/40\n",
            "7/7 [==============================] - 17s 1s/step - loss: 0.1113 - accuracy: 0.9424 - val_loss: 2.5042 - val_accuracy: 0.6667\n",
            "Epoch 8/40\n",
            "7/7 [==============================] - 17s 1s/step - loss: 0.1110 - accuracy: 0.9346 - val_loss: 0.3153 - val_accuracy: 0.8333\n",
            "Epoch 9/40\n",
            "7/7 [==============================] - 17s 1s/step - loss: 0.0971 - accuracy: 0.9774 - val_loss: 0.3466 - val_accuracy: 0.7963\n",
            "Epoch 10/40\n",
            "7/7 [==============================] - 17s 1s/step - loss: 0.1164 - accuracy: 0.9497 - val_loss: 0.3440 - val_accuracy: 0.8333\n",
            "Epoch 11/40\n",
            "7/7 [==============================] - 17s 1s/step - loss: 0.0607 - accuracy: 0.9857 - val_loss: 0.1539 - val_accuracy: 0.8704\n",
            "Epoch 12/40\n",
            "7/7 [==============================] - 17s 1s/step - loss: 0.0992 - accuracy: 0.9727 - val_loss: 0.0108 - val_accuracy: 1.0000\n",
            "Epoch 13/40\n",
            "7/7 [==============================] - 17s 1s/step - loss: 0.0790 - accuracy: 0.9618 - val_loss: 0.1316 - val_accuracy: 0.9630\n",
            "Epoch 14/40\n",
            "7/7 [==============================] - 17s 1s/step - loss: 0.1194 - accuracy: 0.9512 - val_loss: 0.3641 - val_accuracy: 0.9074\n",
            "Epoch 15/40\n",
            "7/7 [==============================] - 17s 1s/step - loss: 0.1110 - accuracy: 0.9530 - val_loss: 0.0897 - val_accuracy: 0.9630\n",
            "Epoch 16/40\n",
            "7/7 [==============================] - 17s 1s/step - loss: 0.0849 - accuracy: 0.9436 - val_loss: 0.3631 - val_accuracy: 0.9444\n",
            "Epoch 17/40\n",
            "7/7 [==============================] - 17s 1s/step - loss: 0.1143 - accuracy: 0.9421 - val_loss: 0.5229 - val_accuracy: 0.9259\n",
            "Epoch 18/40\n",
            "7/7 [==============================] - 17s 1s/step - loss: 0.1252 - accuracy: 0.9350 - val_loss: 0.0195 - val_accuracy: 1.0000\n",
            "Epoch 19/40\n",
            "7/7 [==============================] - 17s 1s/step - loss: 0.0716 - accuracy: 0.9779 - val_loss: 0.5185 - val_accuracy: 0.7778\n",
            "Epoch 20/40\n",
            "7/7 [==============================] - 17s 1s/step - loss: 0.1248 - accuracy: 0.9471 - val_loss: 0.4088 - val_accuracy: 0.9444\n",
            "Epoch 21/40\n",
            "7/7 [==============================] - 17s 1s/step - loss: 0.0982 - accuracy: 0.9621 - val_loss: 0.2579 - val_accuracy: 0.9630\n",
            "Epoch 22/40\n",
            "7/7 [==============================] - 17s 1s/step - loss: 0.0837 - accuracy: 0.9517 - val_loss: 0.4119 - val_accuracy: 0.7593\n",
            "Epoch 23/40\n",
            "7/7 [==============================] - 17s 1s/step - loss: 0.1311 - accuracy: 0.9302 - val_loss: 0.0982 - val_accuracy: 0.9815\n",
            "Epoch 24/40\n",
            "7/7 [==============================] - 17s 1s/step - loss: 0.0731 - accuracy: 0.9691 - val_loss: 0.1764 - val_accuracy: 0.9444\n",
            "Epoch 25/40\n",
            "7/7 [==============================] - 17s 1s/step - loss: 0.0525 - accuracy: 0.9811 - val_loss: 0.3038 - val_accuracy: 0.9630\n",
            "Epoch 26/40\n",
            "7/7 [==============================] - 17s 1s/step - loss: 0.1155 - accuracy: 0.9382 - val_loss: 0.1138 - val_accuracy: 0.9444\n",
            "Epoch 27/40\n",
            "7/7 [==============================] - 17s 1s/step - loss: 0.0884 - accuracy: 0.9711 - val_loss: 0.1556 - val_accuracy: 0.9074\n",
            "Epoch 28/40\n",
            "7/7 [==============================] - 17s 1s/step - loss: 0.0911 - accuracy: 0.9544 - val_loss: 0.0890 - val_accuracy: 0.9444\n",
            "Epoch 29/40\n",
            "7/7 [==============================] - 17s 1s/step - loss: 0.0908 - accuracy: 0.9542 - val_loss: 0.3258 - val_accuracy: 0.9630\n",
            "Epoch 30/40\n",
            "7/7 [==============================] - 17s 1s/step - loss: 0.0680 - accuracy: 0.9873 - val_loss: 0.3167 - val_accuracy: 0.8333\n",
            "Epoch 31/40\n",
            "7/7 [==============================] - 17s 1s/step - loss: 0.1005 - accuracy: 0.9568 - val_loss: 0.1162 - val_accuracy: 0.9630\n",
            "Epoch 32/40\n",
            "7/7 [==============================] - 17s 1s/step - loss: 0.0737 - accuracy: 0.9717 - val_loss: 0.0496 - val_accuracy: 0.9815\n",
            "Epoch 33/40\n",
            "7/7 [==============================] - 17s 1s/step - loss: 0.1487 - accuracy: 0.9486 - val_loss: 0.0520 - val_accuracy: 0.9815\n",
            "Epoch 34/40\n",
            "7/7 [==============================] - 18s 2s/step - loss: 0.0573 - accuracy: 0.9772 - val_loss: 0.1707 - val_accuracy: 0.9630\n",
            "Epoch 35/40\n",
            "7/7 [==============================] - 17s 1s/step - loss: 0.0807 - accuracy: 0.9503 - val_loss: 0.2733 - val_accuracy: 0.9630\n",
            "Epoch 36/40\n",
            "7/7 [==============================] - 17s 1s/step - loss: 0.0618 - accuracy: 0.9776 - val_loss: 0.0588 - val_accuracy: 0.9630\n",
            "Epoch 37/40\n",
            "7/7 [==============================] - 17s 1s/step - loss: 0.0795 - accuracy: 0.9662 - val_loss: 0.3941 - val_accuracy: 0.9630\n",
            "Epoch 38/40\n",
            "7/7 [==============================] - 17s 1s/step - loss: 0.1170 - accuracy: 0.9261 - val_loss: 0.0243 - val_accuracy: 1.0000\n",
            "Epoch 39/40\n",
            "7/7 [==============================] - 17s 1s/step - loss: 0.1007 - accuracy: 0.9569 - val_loss: 0.0166 - val_accuracy: 1.0000\n",
            "Epoch 40/40\n",
            "7/7 [==============================] - 17s 1s/step - loss: 0.0561 - accuracy: 0.9711 - val_loss: 0.1329 - val_accuracy: 0.9630\n",
            "--- 674.0315001010895 seconds ---\n"
          ],
          "name": "stdout"
        }
      ]
    },
    {
      "cell_type": "code",
      "metadata": {
        "colab": {
          "base_uri": "https://localhost:8080/"
        },
        "id": "s3tgsgiGnvzo",
        "outputId": "c41b1bb9-2f7e-402d-a4c9-ffac59ba76de"
      },
      "source": [
        "train_ds = tf.keras.preprocessing.image_dataset_from_directory(\n",
        "        \"/content/Codes/datasets/tmp/\", validation_split=0.2, subset=\"training\", seed=1337, image_size=image_size,\n",
        "        batch_size=batch_size, shuffle=True, labels='inferred', label_mode = \"int\"\n",
        "    )\n",
        "\n"
      ],
      "execution_count": null,
      "outputs": [
        {
          "output_type": "stream",
          "text": [
            "Found 270 files belonging to 2 classes.\n",
            "Using 216 files for training.\n"
          ],
          "name": "stdout"
        }
      ]
    },
    {
      "cell_type": "code",
      "metadata": {
        "colab": {
          "base_uri": "https://localhost:8080/"
        },
        "id": "0Sqk6q-2dPjx",
        "outputId": "724666d0-8e73-437d-8e32-e15078b5625a"
      },
      "source": [
        "test = tf.keras.estimator.model_to_estimator(model)"
      ],
      "execution_count": null,
      "outputs": [
        {
          "output_type": "stream",
          "text": [
            "INFO:tensorflow:Using default config.\n",
            "WARNING:tensorflow:Using temporary folder as model directory: /tmp/tmp7_ngl2vp\n",
            "INFO:tensorflow:Using the Keras model provided.\n"
          ],
          "name": "stdout"
        },
        {
          "output_type": "stream",
          "text": [
            "/usr/local/lib/python3.6/dist-packages/tensorflow/python/keras/backend.py:434: UserWarning: `tf.keras.backend.set_learning_phase` is deprecated and will be removed after 2020-10-11. To update it, simply pass a True/False value to the `training` argument of the `__call__` method of your layer or model.\n",
            "  warnings.warn('`tf.keras.backend.set_learning_phase` is deprecated and '\n"
          ],
          "name": "stderr"
        },
        {
          "output_type": "stream",
          "text": [
            "INFO:tensorflow:Using config: {'_model_dir': '/tmp/tmp7_ngl2vp', '_tf_random_seed': None, '_save_summary_steps': 100, '_save_checkpoints_steps': None, '_save_checkpoints_secs': 600, '_session_config': allow_soft_placement: true\n",
            "graph_options {\n",
            "  rewrite_options {\n",
            "    meta_optimizer_iterations: ONE\n",
            "  }\n",
            "}\n",
            ", '_keep_checkpoint_max': 5, '_keep_checkpoint_every_n_hours': 10000, '_log_step_count_steps': 100, '_train_distribute': None, '_device_fn': None, '_protocol': None, '_eval_distribute': None, '_experimental_distribute': None, '_experimental_max_worker_delay_secs': None, '_session_creation_timeout_secs': 7200, '_checkpoint_save_graph_def': True, '_service': None, '_cluster_spec': ClusterSpec({}), '_task_type': 'worker', '_task_id': 0, '_global_id_in_cluster': 0, '_master': '', '_evaluation_master': '', '_is_chief': True, '_num_ps_replicas': 0, '_num_worker_replicas': 1}\n"
          ],
          "name": "stdout"
        }
      ]
    },
    {
      "cell_type": "code",
      "metadata": {
        "colab": {
          "base_uri": "https://localhost:8080/"
        },
        "id": "oyA9Xh6LtyVr",
        "outputId": "4ab9f7bf-88b5-463c-f4b1-b10707587b4b"
      },
      "source": [
        "hvd_model = hvd.KerasModel(model=model)\n",
        "hvd_model = hvd_model.getModel()\n",
        "\n",
        "start_time = time.time()\n",
        "\n",
        "hvd_model.fit(train_ds, epochs=epochs, validation_data=val_ds, batch_size=batch_size)\n",
        "\n",
        "time_B = print(\"--- %s seconds ---\" % (time.time() - start_time))"
      ],
      "execution_count": null,
      "outputs": [
        {
          "output_type": "stream",
          "text": [
            "Epoch 1/40\n",
            "7/7 [==============================] - 17s 1s/step - loss: 0.1517 - accuracy: 0.9306 - val_loss: 0.6861 - val_accuracy: 0.7593\n",
            "Epoch 2/40\n",
            "7/7 [==============================] - 18s 1s/step - loss: 0.1415 - accuracy: 0.9491 - val_loss: 1.7217 - val_accuracy: 0.6667\n",
            "Epoch 3/40\n",
            "7/7 [==============================] - 17s 1s/step - loss: 0.1312 - accuracy: 0.9444 - val_loss: 1.8127 - val_accuracy: 0.6667\n",
            "Epoch 4/40\n",
            "7/7 [==============================] - 17s 1s/step - loss: 0.1420 - accuracy: 0.9398 - val_loss: 0.2282 - val_accuracy: 0.8704\n",
            "Epoch 5/40\n",
            "7/7 [==============================] - 17s 1s/step - loss: 0.1234 - accuracy: 0.9537 - val_loss: 1.8716 - val_accuracy: 0.6667\n",
            "Epoch 6/40\n",
            "7/7 [==============================] - 17s 1s/step - loss: 0.1486 - accuracy: 0.9491 - val_loss: 2.1071 - val_accuracy: 0.6667\n",
            "Epoch 7/40\n",
            "7/7 [==============================] - 17s 1s/step - loss: 0.1518 - accuracy: 0.9306 - val_loss: 2.6618 - val_accuracy: 0.6667\n",
            "Epoch 8/40\n",
            "7/7 [==============================] - 17s 1s/step - loss: 0.1139 - accuracy: 0.9676 - val_loss: 1.5217 - val_accuracy: 0.7222\n",
            "Epoch 9/40\n",
            "7/7 [==============================] - 17s 1s/step - loss: 0.1152 - accuracy: 0.9537 - val_loss: 0.4251 - val_accuracy: 0.6296\n",
            "Epoch 10/40\n",
            "7/7 [==============================] - 17s 1s/step - loss: 0.1030 - accuracy: 0.9676 - val_loss: 1.0533 - val_accuracy: 0.7593\n",
            "Epoch 11/40\n",
            "7/7 [==============================] - 17s 1s/step - loss: 0.1232 - accuracy: 0.9676 - val_loss: 2.9831 - val_accuracy: 0.6667\n",
            "Epoch 12/40\n",
            "7/7 [==============================] - 17s 1s/step - loss: 0.1325 - accuracy: 0.9537 - val_loss: 1.1324 - val_accuracy: 0.6667\n",
            "Epoch 13/40\n",
            "7/7 [==============================] - 17s 1s/step - loss: 0.1337 - accuracy: 0.9398 - val_loss: 0.2249 - val_accuracy: 0.8333\n",
            "Epoch 14/40\n",
            "7/7 [==============================] - 17s 1s/step - loss: 0.0972 - accuracy: 0.9722 - val_loss: 0.2337 - val_accuracy: 0.9630\n",
            "Epoch 15/40\n",
            "7/7 [==============================] - 17s 1s/step - loss: 0.1085 - accuracy: 0.9630 - val_loss: 0.5550 - val_accuracy: 0.7778\n",
            "Epoch 16/40\n",
            "7/7 [==============================] - 17s 1s/step - loss: 0.1092 - accuracy: 0.9676 - val_loss: 0.4128 - val_accuracy: 0.7593\n",
            "Epoch 17/40\n",
            "7/7 [==============================] - 17s 1s/step - loss: 0.0731 - accuracy: 0.9954 - val_loss: 0.2894 - val_accuracy: 0.8148\n",
            "Epoch 18/40\n",
            "7/7 [==============================] - 17s 1s/step - loss: 0.1094 - accuracy: 0.9537 - val_loss: 0.5941 - val_accuracy: 0.7407\n",
            "Epoch 19/40\n",
            "7/7 [==============================] - 17s 1s/step - loss: 0.1193 - accuracy: 0.9583 - val_loss: 0.3199 - val_accuracy: 0.7778\n",
            "Epoch 20/40\n",
            "7/7 [==============================] - 17s 1s/step - loss: 0.0903 - accuracy: 0.9769 - val_loss: 0.0430 - val_accuracy: 1.0000\n",
            "Epoch 21/40\n",
            "7/7 [==============================] - 17s 1s/step - loss: 0.1074 - accuracy: 0.9537 - val_loss: 0.2632 - val_accuracy: 0.8333\n",
            "Epoch 22/40\n",
            "7/7 [==============================] - 17s 1s/step - loss: 0.0784 - accuracy: 0.9815 - val_loss: 0.6231 - val_accuracy: 0.7593\n",
            "Epoch 23/40\n",
            "7/7 [==============================] - 17s 1s/step - loss: 0.1269 - accuracy: 0.9398 - val_loss: 0.2886 - val_accuracy: 0.7963\n",
            "Epoch 24/40\n",
            "7/7 [==============================] - 17s 1s/step - loss: 0.0969 - accuracy: 0.9630 - val_loss: 0.1323 - val_accuracy: 0.9444\n",
            "Epoch 25/40\n",
            "7/7 [==============================] - 17s 1s/step - loss: 0.1186 - accuracy: 0.9583 - val_loss: 1.3981 - val_accuracy: 0.7037\n",
            "Epoch 26/40\n",
            "7/7 [==============================] - 17s 1s/step - loss: 0.1032 - accuracy: 0.9491 - val_loss: 0.0833 - val_accuracy: 0.9815\n",
            "Epoch 27/40\n",
            "7/7 [==============================] - 17s 1s/step - loss: 0.1091 - accuracy: 0.9583 - val_loss: 0.3759 - val_accuracy: 0.7963\n",
            "Epoch 28/40\n",
            "7/7 [==============================] - 17s 1s/step - loss: 0.1103 - accuracy: 0.9444 - val_loss: 0.1670 - val_accuracy: 0.8889\n",
            "Epoch 29/40\n",
            "7/7 [==============================] - 17s 1s/step - loss: 0.0929 - accuracy: 0.9630 - val_loss: 0.1829 - val_accuracy: 0.8704\n",
            "Epoch 30/40\n",
            "7/7 [==============================] - 17s 1s/step - loss: 0.1036 - accuracy: 0.9630 - val_loss: 0.4018 - val_accuracy: 0.7778\n",
            "Epoch 31/40\n",
            "7/7 [==============================] - 17s 1s/step - loss: 0.0776 - accuracy: 0.9769 - val_loss: 0.2340 - val_accuracy: 0.8333\n",
            "Epoch 32/40\n",
            "7/7 [==============================] - 17s 1s/step - loss: 0.1013 - accuracy: 0.9537 - val_loss: 0.0270 - val_accuracy: 1.0000\n",
            "Epoch 33/40\n",
            "7/7 [==============================] - 17s 1s/step - loss: 0.0820 - accuracy: 0.9676 - val_loss: 0.0879 - val_accuracy: 1.0000\n",
            "Epoch 34/40\n",
            "7/7 [==============================] - 17s 1s/step - loss: 0.0976 - accuracy: 0.9630 - val_loss: 0.7593 - val_accuracy: 0.7778\n",
            "Epoch 35/40\n",
            "7/7 [==============================] - 17s 1s/step - loss: 0.1102 - accuracy: 0.9537 - val_loss: 0.1468 - val_accuracy: 0.9630\n",
            "Epoch 36/40\n",
            "7/7 [==============================] - 17s 1s/step - loss: 0.0807 - accuracy: 0.9722 - val_loss: 0.3407 - val_accuracy: 0.7407\n",
            "Epoch 37/40\n",
            "7/7 [==============================] - 17s 1s/step - loss: 0.1091 - accuracy: 0.9444 - val_loss: 0.2040 - val_accuracy: 0.9630\n",
            "Epoch 38/40\n",
            "7/7 [==============================] - 18s 1s/step - loss: 0.1343 - accuracy: 0.9444 - val_loss: 0.9358 - val_accuracy: 0.7222\n",
            "Epoch 39/40\n",
            "7/7 [==============================] - 17s 1s/step - loss: 0.0985 - accuracy: 0.9537 - val_loss: 1.0978 - val_accuracy: 0.7778\n",
            "Epoch 40/40\n",
            "7/7 [==============================] - 17s 1s/step - loss: 0.1275 - accuracy: 0.9537 - val_loss: 0.1696 - val_accuracy: 0.9630\n",
            "--- 677.3899667263031 seconds ---\n"
          ],
          "name": "stdout"
        }
      ]
    }
  ]
}